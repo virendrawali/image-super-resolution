{
  "nbformat": 4,
  "nbformat_minor": 0,
  "metadata": {
    "colab": {
      "name": "preprocessing.ipynb",
      "version": "0.3.2",
      "provenance": [],
      "collapsed_sections": []
    },
    "kernelspec": {
      "name": "python3",
      "display_name": "Python 3"
    },
    "accelerator": "GPU"
  },
  "cells": [
    {
      "metadata": {
        "id": "WZ9bzH2KcbYJ",
        "colab_type": "code",
        "outputId": "66144021-5d2d-4f0a-e7ef-d5e8fc8a39bd",
        "colab": {
          "base_uri": "https://localhost:8080/",
          "height": 276
        }
      },
      "cell_type": "code",
      "source": [
        "!pip install PyDrive\n",
        "# https://medium.freecodecamp.org/how-to-transfer-large-files-to-google-colab-and-remote-jupyter-notebooks-26ca252892fa\n",
        "import os\n",
        "from pydrive.auth import GoogleAuth\n",
        "from pydrive.drive import GoogleDrive\n",
        "from google.colab import auth\n",
        "from oauth2client.client import GoogleCredentials\n",
        "from PIL import Image\n",
        "\n",
        "from glob import glob, iglob\n",
        "\n",
        "import torch\n",
        "import torch.nn as nn\n",
        "import torch.utils.data as data\n",
        "from torch.utils.data import DataLoader\n",
        "import math\n",
        "from torchvision import transforms\n",
        "\n",
        "import torchvision.transforms.functional as TF"
      ],
      "execution_count": 17,
      "outputs": [
        {
          "output_type": "stream",
          "text": [
            "Requirement already satisfied: PyDrive in /usr/local/lib/python3.6/dist-packages (1.3.1)\n",
            "Requirement already satisfied: PyYAML>=3.0 in /usr/local/lib/python3.6/dist-packages (from PyDrive) (3.13)\n",
            "Requirement already satisfied: oauth2client>=4.0.0 in /usr/local/lib/python3.6/dist-packages (from PyDrive) (4.1.3)\n",
            "Requirement already satisfied: google-api-python-client>=1.2 in /usr/local/lib/python3.6/dist-packages (from PyDrive) (1.6.7)\n",
            "Requirement already satisfied: pyasn1>=0.1.7 in /usr/local/lib/python3.6/dist-packages (from oauth2client>=4.0.0->PyDrive) (0.4.5)\n",
            "Requirement already satisfied: six>=1.6.1 in /usr/local/lib/python3.6/dist-packages (from oauth2client>=4.0.0->PyDrive) (1.12.0)\n",
            "Requirement already satisfied: httplib2>=0.9.1 in /usr/local/lib/python3.6/dist-packages (from oauth2client>=4.0.0->PyDrive) (0.11.3)\n",
            "Requirement already satisfied: pyasn1-modules>=0.0.5 in /usr/local/lib/python3.6/dist-packages (from oauth2client>=4.0.0->PyDrive) (0.2.5)\n",
            "Requirement already satisfied: rsa>=3.1.4 in /usr/local/lib/python3.6/dist-packages (from oauth2client>=4.0.0->PyDrive) (4.0)\n",
            "Requirement already satisfied: uritemplate<4dev,>=3.0.0 in /usr/local/lib/python3.6/dist-packages (from google-api-python-client>=1.2->PyDrive) (3.0.0)\n"
          ],
          "name": "stdout"
        }
      ]
    },
    {
      "metadata": {
        "id": "QGDP58Vm_oNT",
        "colab_type": "code",
        "colab": {}
      },
      "cell_type": "code",
      "source": [
        "# authorize Google SDK to access Google Drive from Colab\n",
        "auth.authenticate_user()\n",
        "gauth = GoogleAuth()\n",
        "gauth.credentials = GoogleCredentials.get_application_default()\n",
        "drive = GoogleDrive(gauth)"
      ],
      "execution_count": 0,
      "outputs": []
    },
    {
      "metadata": {
        "id": "boyT0fGk98V8",
        "colab_type": "code",
        "colab": {}
      },
      "cell_type": "code",
      "source": [
        "def get_and_unzip_file(id, zip_name):\n",
        "  # Enable link sharing for the file. Copy the link. Get id.\n",
        "  download = drive.CreateFile({'id': id})\n",
        "  download.GetContentFile(zip_name) "
      ],
      "execution_count": 0,
      "outputs": []
    },
    {
      "metadata": {
        "id": "ikyR7q7O_7Bw",
        "colab_type": "code",
        "outputId": "9f3ce184-cfc2-405a-c616-96b71b27ed8a",
        "colab": {
          "base_uri": "https://localhost:8080/",
          "height": 301
        }
      },
      "cell_type": "code",
      "source": [
        "# get_and_unzip_file('1LJh_oF3sU3fbucRDpRYmkpCe5FpwrGRT', 'widerface_subset.tar')\n",
        "# get_and_unzip_file('1bbgdcNRyXT6Jz5IoQ1egJvFkMTnB-kbC', 'vgg2_subset.tar')\n",
        "# get_and_unzip_file('1BiO6XVRY9Ou3tve2DZmm1Sm8xtTjAD5h', 'testset.tar')\n",
        "# get_and_unzip_file('1r5wZLOD3pMdUkxdXE7SJyPy7gXsM2dn5', 'test_res.tar')\n",
        "# get_and_unzip_file('1lAtyrKWQsktOcUeOV_tjbl1ltUi63v9h', 'fa_subset.tar')\n",
        "# get_and_unzip_file('1DEl-afZ6B0VZ5r2X_HCyNaVDK0uiCs_x', 'celea_subset.tar')\n",
        "get_and_unzip_file('1b-4ICO-MAaxBrJeTrYMqD8lbLWjYquA8', 'try_img.zip')\n",
        "\n",
        "# train_HR : vggface2/vggcrop_train_1p10, vggface2/vggcrop_test_1p10, SRtrainset_2, celea_60000_SFD\n",
        "# train_LR : wider_lnew\n",
        "# test_HR : test_res\n",
        "# test_LR : testset\n",
        "# !tar -xvf widerface_subset.tar #wider_lnew\n",
        "# !tar -xvf vgg2_subset.tar # vggface2/vggcrop_train_1p10, vggface2/vggcrop_test_1p10\n",
        "# !tar -xvf fa_subset.tar # SRtrainset_2\n",
        "# !tar -xvf celea_subset.tar # celea_60000_SFD\n",
        "# !tar -xvf testset.tar # testset\n",
        "# !tar -zcvf try_img.tar.gz try_img # try_img\n",
        "!unzip try_img.zip"
      ],
      "execution_count": 20,
      "outputs": [
        {
          "output_type": "stream",
          "text": [
            "Archive:  try_img.zip\n",
            "replace try_img/000008.jpg? [y]es, [n]o, [A]ll, [N]one, [r]ename: y\n",
            "  inflating: try_img/000008.jpg      \n",
            "replace try_img/000009.jpg? [y]es, [n]o, [A]ll, [N]one, [r]ename: y\n",
            "  inflating: try_img/000009.jpg      \n",
            "replace try_img/000012.jpg? [y]es, [n]o, [A]ll, [N]one, [r]ename: y\n",
            "  inflating: try_img/000012.jpg      \n",
            "replace try_img/000006.jpg? [y]es, [n]o, [A]ll, [N]one, [r]ename: y\n",
            "  inflating: try_img/000006.jpg      \n",
            "replace try_img/000004.jpg? [y]es, [n]o, [A]ll, [N]one, [r]ename: y\n",
            "  inflating: try_img/000004.jpg      \n",
            "replace try_img/000011.jpg? [y]es, [n]o, [A]ll, [N]one, [r]ename: y\n",
            "  inflating: try_img/000011.jpg      \n",
            "replace try_img/000001.jpg? [y]es, [n]o, [A]ll, [N]one, [r]ename: y\n",
            "  inflating: try_img/000001.jpg      \n"
          ],
          "name": "stdout"
        }
      ]
    },
    {
      "metadata": {
        "id": "I9VDii1RJgRz",
        "colab_type": "code",
        "outputId": "0dc41d7d-2978-4919-b001-cfac3dba6560",
        "colab": {
          "base_uri": "https://localhost:8080/",
          "height": 136
        }
      },
      "cell_type": "code",
      "source": [
        "# !rm -rf try_img\n",
        "os.listdir('try_img')"
      ],
      "execution_count": 21,
      "outputs": [
        {
          "output_type": "execute_result",
          "data": {
            "text/plain": [
              "['000004.jpg',\n",
              " '000011.jpg',\n",
              " '000006.jpg',\n",
              " '000012.jpg',\n",
              " '000001.jpg',\n",
              " '000008.jpg',\n",
              " '000009.jpg']"
            ]
          },
          "metadata": {
            "tags": []
          },
          "execution_count": 21
        }
      ]
    },
    {
      "metadata": {
        "id": "Ew-FqS8GF23r",
        "colab_type": "code",
        "colab": {}
      },
      "cell_type": "code",
      "source": [
        "# train_HR : vggface2/vggcrop_train_1p10(345756), vggface2/vggcrop_test_1p10(20048), SRtrainset_2(31556), celea_60000_SFD(60000)\n",
        "# train_LR : wider_lnew(53254)\n",
        "# test_HR : test_res(2999)\n",
        "# test_LR : testset(2999)\n",
        "\n",
        "# def get_n_files(path):\n",
        "#   return len(next(os.walk(path))[-1])\n",
        "# get_n_files(\"SRtrainset_2\")\n",
        "\n",
        "# get number of files by linux\n",
        "# !ls -1 vggface2/vggcrop_train_lp10 wc -l"
      ],
      "execution_count": 0,
      "outputs": []
    },
    {
      "metadata": {
        "id": "6e36dUX3pYvl",
        "colab_type": "code",
        "colab": {}
      },
      "cell_type": "code",
      "source": [
        "class my_dataset(data.Dataset):\n",
        "    def __init__(self, dir_path, transform):\n",
        "        self.transform = transform\n",
        "        self.dir_path = dir_path\n",
        "        self.img_list = os.listdir(dir_path)\n",
        "\n",
        "    def __len__(self):\n",
        "        return len(self.img_list)\n",
        "\n",
        "    def __getitem__(self, index):\n",
        "        img_raw = Image.open(self.dir_path + \"/\" + self.img_list[index])\n",
        "        width, height = img_raw.size\n",
        "        return self.transform(img_raw)\n",
        "\n",
        "def get_loader(bs = 4):\n",
        "    transform = transforms.Compose([\n",
        "            transforms.ToTensor(),transforms.Normalize((0.5, 0.5, 0.5), (0.5, 0.5, 0.5))])\n",
        "    dataset = my_dataset(\"try_img\", transform)\n",
        "    data_loader = DataLoader(dataset=dataset,\n",
        "                             batch_size=bs,\n",
        "                             shuffle=False, num_workers=2, pin_memory=True)\n",
        "    return data_loader"
      ],
      "execution_count": 0,
      "outputs": []
    },
    {
      "metadata": {
        "id": "VHuh0jFG58D7",
        "colab_type": "code",
        "colab": {}
      },
      "cell_type": "code",
      "source": [
        "try_ds = get_loader()\n",
        "\n",
        "# for i in range(len(try_ds)):\n",
        "#   print(try_ds[i])"
      ],
      "execution_count": 0,
      "outputs": []
    },
    {
      "metadata": {
        "id": "ugA9NqPVvOCH",
        "colab_type": "code",
        "colab": {
          "base_uri": "https://localhost:8080/",
          "height": 34
        },
        "outputId": "5b18d046-83f5-4c07-f42a-952329d65a85"
      },
      "cell_type": "code",
      "source": [
        "# get some random training images\n",
        "dataiter = iter(try_ds)\n",
        "images = dataiter.next()\n",
        "print(images.shape)"
      ],
      "execution_count": 27,
      "outputs": [
        {
          "output_type": "stream",
          "text": [
            "torch.Size([4, 3, 64, 64])\n"
          ],
          "name": "stdout"
        }
      ]
    },
    {
      "metadata": {
        "id": "3pCYRZISQ8P3",
        "colab_type": "code",
        "colab": {}
      },
      "cell_type": "code",
      "source": [
        "def conc_noise(x):\n",
        "  x = x.reshape([-1, 12288])\n",
        "  noise = torch.randn(x.shape[0], 64)\n",
        "  x = torch.cat((x, noise), 1)\n",
        "  # a fully connected layer to reshape to have the same size as one image channel\n",
        "  x = nn.Linear(12352, 12288)(x)\n",
        "  x = x.reshape([-1, 3, 64, 64])\n",
        "  return x"
      ],
      "execution_count": 0,
      "outputs": []
    },
    {
      "metadata": {
        "id": "arxtsnQCwBzo",
        "colab_type": "code",
        "colab": {
          "base_uri": "https://localhost:8080/",
          "height": 34
        },
        "outputId": "4c8f2b56-7caf-4cfb-b16f-52ce72178f8a"
      },
      "cell_type": "code",
      "source": [
        "x = images\n",
        "x = conc_noise(x)\n",
        "x.shape"
      ],
      "execution_count": 239,
      "outputs": [
        {
          "output_type": "execute_result",
          "data": {
            "text/plain": [
              "torch.Size([4, 3, 64, 64])"
            ]
          },
          "metadata": {
            "tags": []
          },
          "execution_count": 239
        }
      ]
    },
    {
      "metadata": {
        "id": "rBpkHsg51gqf",
        "colab_type": "code",
        "colab": {
          "base_uri": "https://localhost:8080/",
          "height": 34
        },
        "outputId": "ffb6b66a-becf-466d-c9b9-cfcc40c83b5e"
      },
      "cell_type": "code",
      "source": [
        "class H2L_G_block(nn.Module):\n",
        "    def __init__(self, inplanes, planes, downsample=False, upsample=False):\n",
        "        super(H2L_G_block, self).__init__() # input shape (3, 64, 64)\n",
        "        self.upsample = upsample\n",
        "        self.downsample = downsample\n",
        "        \n",
        "        self.bn1 = nn.BatchNorm2d(inplanes)\n",
        "        self.relu = nn.ReLU(inplace=True)\n",
        "        self.conv1 = nn.Conv2d(inplanes, inplanes, 3, 1, 1) # in_channels, out_channels, kernel_size, stride=1, padding=0, dilation=1, groups=1, bias=True  # wd_out = ((width - filter width + 2 padding) / stride) + 1\n",
        "        self.bn2 = nn.BatchNorm2d(inplanes)\n",
        "        \n",
        "        if self.upsample:\n",
        "          self.skip = nn.Sequential(nn.Conv2d(inplanes, planes, 1, 1), nn.PixelShuffle(2))\n",
        "        elif self.downsample:\n",
        "          self.skip = nn.Sequential(nn.Conv2d(inplanes, planes, 1, 1), nn.AvgPool2d(2,2)) #kernel_size=2, stride=2  # or nn.MaxPool2d(2, 2)\n",
        "        else:\n",
        "          self.skip = nn.Conv2d(inplanes, planes, 1)\n",
        "\n",
        "    def forward(self, x):\n",
        "        residual = x\n",
        "        x = self.bn1(x)\n",
        "        x = self.relu(x)\n",
        "        x = self.conv1(x)\n",
        "        x = self.bn2(x)\n",
        "        x = self.relu(x)\n",
        "        x += residual\n",
        "        x = self.skip(x)\n",
        "        return x\n",
        "\n",
        "# net1 = H2L_G_block(3, 256, downsample=True)\n",
        "# net2 = H2L_G_block(256, 512, downsample=True)\n",
        "# net3 = H2L_G_block(512, 1024, downsample=True)\n",
        "# net4 = H2L_G_block(1024, 2048, downsample=True)\n",
        "# net5 = H2L_G_block(2048, 2048, upsample=True)\n",
        "# net6 = H2L_G_block(512, 512, upsample=True)\n",
        "gp1 = nn.Sequential(H2L_G_block(3, 256, downsample=True), H2L_G_block(256, 256))\n",
        "gp2 = nn.Sequential(H2L_G_block(256, 512, downsample=True), H2L_G_block(512, 512))\n",
        "gp3 = nn.Sequential(H2L_G_block(512, 1024, downsample=True), H2L_G_block(1024, 1024))\n",
        "gp4 = nn.Sequential(H2L_G_block(1024, 2048, downsample=True), H2L_G_block(2048, 2048))\n",
        "gp5 = nn.Sequential(H2L_G_block(2048, 2048, upsample=True), H2L_G_block(512, 512))\n",
        "gp6 = nn.Sequential(H2L_G_block(512, 512, upsample=True), H2L_G_block(128, 3))\n",
        "# x_ = gp1(x)\n",
        "# print(x_.shape)\n",
        "# x_ = gp2(x_)\n",
        "# print(x_.shape)\n",
        "# x_ = gp3(x_)\n",
        "# print(x_.shape)\n",
        "# x_ = gp4(x_)\n",
        "# print(x_.shape)\n",
        "# x_ = gp5(x_)\n",
        "# print(x_.shape)\n",
        "# x_ = gp6(x_)\n",
        "# print(x_.shape)\n",
        "# total_net = nn.Sequential(net1, net2, net3, net4, net5, net6)\n",
        "# x_ = total_net(x)\n",
        "\n",
        "H2L_G = nn.Sequential(gp1, gp2, gp3, gp4, gp5, gp6)\n",
        "x_ = H2L_G(x)\n",
        "print(x_.shape)\n"
      ],
      "execution_count": 217,
      "outputs": [
        {
          "output_type": "stream",
          "text": [
            "torch.Size([4, 3, 16, 16])\n"
          ],
          "name": "stdout"
        }
      ]
    },
    {
      "metadata": {
        "id": "hMud6fkR4kPG",
        "colab_type": "code",
        "colab": {
          "base_uri": "https://localhost:8080/",
          "height": 102
        },
        "outputId": "52082c6f-f946-4eac-ad3f-f90e338cd180"
      },
      "cell_type": "code",
      "source": [
        "import torch.optim as optim\n",
        "import numpy as np\n",
        "\n",
        "criterion = nn.CrossEntropyLoss() # test\n",
        "optimizer = optim.SGD(net.parameters(), lr=0.001, momentum=0.9) #test\n",
        "\n",
        "  \n",
        "for epoch in range(2):  # loop over the dataset multiple times\n",
        "\n",
        "    running_loss = 0.0\n",
        "    for i, data in enumerate(try_ds, 0):\n",
        "        # get the inputs\n",
        "        inputs = data\n",
        "\n",
        "        # zero the parameter gradients\n",
        "        optimizer.zero_grad()\n",
        "\n",
        "        # forward + backward + optimize\n",
        "        outputs = H2L_G(inputs)\n",
        "        print(outputs.shape)\n",
        "\n",
        "print('Finished Training')"
      ],
      "execution_count": 218,
      "outputs": [
        {
          "output_type": "stream",
          "text": [
            "torch.Size([4, 3, 16, 16])\n",
            "torch.Size([3, 3, 16, 16])\n",
            "torch.Size([4, 3, 16, 16])\n",
            "torch.Size([3, 3, 16, 16])\n",
            "Finished Training\n"
          ],
          "name": "stdout"
        }
      ]
    },
    {
      "metadata": {
        "id": "NZ1VWWl125l3",
        "colab_type": "code",
        "colab": {
          "base_uri": "https://localhost:8080/",
          "height": 34
        },
        "outputId": "2c29c1d8-6033-43c0-a5eb-8c980f6b08a5"
      },
      "cell_type": "code",
      "source": [
        "class H2L_D_block(nn.Module):\n",
        "    def __init__(self, inplanes, planes, downsample=False):\n",
        "        super(H2L_D_block, self).__init__() # input shape (3, 16, 16)\n",
        "        self.downsample = downsample\n",
        "        \n",
        "        self.relu = nn.ReLU(inplace=True)\n",
        "        self.conv1 = nn.Conv2d(inplanes, inplanes, 3, 1, 1) # in_channels, out_channels, kernel_size, stride=1, padding=0, dilation=1, groups=1, bias=True  # wd_out = ((width - filter width + 2 padding) / stride) + 1\n",
        "        \n",
        "        if self.downsample:\n",
        "          self.skip = nn.Sequential(nn.Conv2d(inplanes, planes, 1, 1), nn.MaxPool2d(2,2)) #kernel_size=2, stride=2  \n",
        "        else:\n",
        "          self.skip = nn.Conv2d(inplanes, planes, 1)\n",
        "\n",
        "    def forward(self, x):\n",
        "        residual = x\n",
        "        x = self.relu(x)\n",
        "        x = self.conv1(x)\n",
        "        x = self.relu(x)\n",
        "        x += residual\n",
        "        x = self.skip(x)\n",
        "        return x\n",
        "\n",
        "net1 = H2L_D_block(3, 256)\n",
        "net2 = H2L_G_block(256, 256)\n",
        "net3 = H2L_G_block(256, 256)\n",
        "net4 = H2L_G_block(256, 256)\n",
        "net5 = H2L_G_block(256, 128, downsample=True)\n",
        "net6 = H2L_G_block(128, 96, downsample=True)\n",
        "\n",
        "# x_ = net1(outputs)\n",
        "# print(x_.shape)\n",
        "# x_ = net2(x_)\n",
        "# print(x_.shape)\n",
        "# x_ = net3(x_)\n",
        "# print(x_.shape)\n",
        "# x_ = net4(x_)\n",
        "# print(x_.shape)\n",
        "# x_ = net5(x_)\n",
        "# print(x_.shape)\n",
        "# x_ = net6(x_)\n",
        "# print(x_.shape)\n",
        "\n",
        "H2L_D = nn.Sequential(net1, net2, net3, net4, net5, net6)\n",
        "\n",
        "x_ = H2L_D(outputs)\n",
        "print(x_.shape)\n"
      ],
      "execution_count": 236,
      "outputs": [
        {
          "output_type": "stream",
          "text": [
            "torch.Size([3, 96, 4, 4])\n"
          ],
          "name": "stdout"
        }
      ]
    },
    {
      "metadata": {
        "id": "6NlSQBz-Mf8v",
        "colab_type": "code",
        "colab": {
          "base_uri": "https://localhost:8080/",
          "height": 102
        },
        "outputId": "95b5bfb4-f428-401d-d103-26154a6c3b6c"
      },
      "cell_type": "code",
      "source": [
        "criterion = nn.CrossEntropyLoss() # test\n",
        "optimizer = optim.SGD(net.parameters(), lr=0.001, momentum=0.9) #test\n",
        "\n",
        "  \n",
        "for epoch in range(2):  # loop over the dataset multiple times\n",
        "\n",
        "    running_loss = 0.0\n",
        "    for i, data in enumerate(try_ds, 0):\n",
        "        # get the inputs\n",
        "        inputs = data\n",
        "\n",
        "        # zero the parameter gradients\n",
        "        optimizer.zero_grad()\n",
        "\n",
        "        # forward + backward + optimize\n",
        "        outputs = H2L_D(inputs)\n",
        "        print(outputs.shape)\n",
        "\n",
        "print('Finished Training')"
      ],
      "execution_count": 237,
      "outputs": [
        {
          "output_type": "stream",
          "text": [
            "torch.Size([4, 96, 16, 16])\n",
            "torch.Size([3, 96, 16, 16])\n",
            "torch.Size([4, 96, 16, 16])\n",
            "torch.Size([3, 96, 16, 16])\n",
            "Finished Training\n"
          ],
          "name": "stdout"
        }
      ]
    },
    {
      "metadata": {
        "id": "gI-6i98ZMfw1",
        "colab_type": "code",
        "colab": {}
      },
      "cell_type": "code",
      "source": [
        ""
      ],
      "execution_count": 0,
      "outputs": []
    },
    {
      "metadata": {
        "id": "DmCJudJD25gB",
        "colab_type": "code",
        "colab": {}
      },
      "cell_type": "code",
      "source": [
        ""
      ],
      "execution_count": 0,
      "outputs": []
    },
    {
      "metadata": {
        "id": "QgotBFOm25c5",
        "colab_type": "code",
        "colab": {}
      },
      "cell_type": "code",
      "source": [
        ""
      ],
      "execution_count": 0,
      "outputs": []
    },
    {
      "metadata": {
        "id": "0ZD2CmQn25VD",
        "colab_type": "code",
        "colab": {}
      },
      "cell_type": "code",
      "source": [
        ""
      ],
      "execution_count": 0,
      "outputs": []
    },
    {
      "metadata": {
        "id": "5yn4y9iN2M8u",
        "colab_type": "code",
        "colab": {}
      },
      "cell_type": "code",
      "source": [
        ""
      ],
      "execution_count": 0,
      "outputs": []
    },
    {
      "metadata": {
        "id": "oN5S0Q352Mzm",
        "colab_type": "code",
        "colab": {}
      },
      "cell_type": "code",
      "source": [
        ""
      ],
      "execution_count": 0,
      "outputs": []
    },
    {
      "metadata": {
        "id": "ljj4MIqIyLQb",
        "colab_type": "code",
        "colab": {}
      },
      "cell_type": "code",
      "source": [
        ""
      ],
      "execution_count": 0,
      "outputs": []
    },
    {
      "metadata": {
        "id": "O0QXTeNxxxLp",
        "colab_type": "code",
        "colab": {}
      },
      "cell_type": "code",
      "source": [
        ""
      ],
      "execution_count": 0,
      "outputs": []
    },
    {
      "metadata": {
        "id": "pQpvDcvL98HE",
        "colab_type": "code",
        "colab": {}
      },
      "cell_type": "code",
      "source": [
        "def display_img(file_path):\n",
        "  im = Image.open(file_path)\n",
        "  wd, ht = im.size\n",
        "  print(wd, ht)\n",
        "  display(im)"
      ],
      "execution_count": 0,
      "outputs": []
    },
    {
      "metadata": {
        "id": "MyBRUjGWS_7f",
        "colab_type": "code",
        "outputId": "4dfdc7ba-dc43-4561-e217-a1d5f8de5e02",
        "colab": {
          "base_uri": "https://localhost:8080/",
          "height": 98
        }
      },
      "cell_type": "code",
      "source": [
        "display_img(\"try_img/000001.jpg\")"
      ],
      "execution_count": 0,
      "outputs": [
        {
          "output_type": "stream",
          "text": [
            "64 64\n"
          ],
          "name": "stdout"
        },
        {
          "output_type": "display_data",
          "data": {
            "image/png": "[encoded data removed]",
            "text/plain": [
              "<PIL.JpegImagePlugin.JpegImageFile image mode=RGB size=64x64 at 0x7F78F70760B8>"
            ]
          },
          "metadata": {
            "tags": []
          }
        }
      ]
    },
    {
      "metadata": {
        "id": "VoRVuIzXv26r",
        "colab_type": "code",
        "colab": {}
      },
      "cell_type": "code",
      "source": [
        "#tf\n",
        "# def dir_path_to_nor_tensor(dir_path):\n",
        "#     res = []\n",
        "#     for i in os.listdir(dir_path):\n",
        "#         img_raw = tf.read_file(dir_path + \"/\" + i)\n",
        "#         img_tensor = tf.cast(tf.image.decode_image(img_raw), tf.float32)\n",
        "#         nor_tensor = tf.math.divide(tf.math.subtract(img_tensor, tf.constant(127.5)), tf.constant(127.5))\n",
        "#         res.append(nor_tensor)\n",
        "#     return res"
      ],
      "execution_count": 0,
      "outputs": []
    },
    {
      "metadata": {
        "id": "fQSDZuyxdaHP",
        "colab_type": "code",
        "colab": {}
      },
      "cell_type": "code",
      "source": [
        "def dir_path_to_nor_tensor(dir_path):\n",
        "    res = []\n",
        "    for i in os.listdir(dir_path):\n",
        "        img_raw = Image.open(dir_path + \"/\" + i)\n",
        "        width, height = img_raw.size\n",
        "        channel = 3 if img_raw.mode == 'RGB' else 1        \n",
        "#         transform = transforms.Compose([transforms.Resize(width * height * channel)])        \n",
        "        transform = transforms.Compose([transforms.Resize(width * height * channel), transforms.ToTensor(),  transforms.Normalize((0.5, 0.5, 0.5), (0.5, 0.5, 0.5))])        \n",
        "#         img_tensor = TF.to_tensor(img_raw).reshape([-1, width * height * channel])\n",
        "#         nor_tensor = transforms.Normalize((0.5, 0.5, 0.5), (0.5, 0.5, 0.5))(img_tensor)\n",
        "        nor_tensor = transform(img_raw)\n",
        "        res.append(nor_tensor)\n",
        "        break\n",
        "    return res"
      ],
      "execution_count": 0,
      "outputs": []
    },
    {
      "metadata": {
        "id": "l1WEeRnqaNPo",
        "colab_type": "code",
        "colab": {}
      },
      "cell_type": "code",
      "source": [
        "img_ts = dir_path_to_nor_tensor(\"try_img\")"
      ],
      "execution_count": 0,
      "outputs": []
    },
    {
      "metadata": {
        "id": "AlT1By_eeBJR",
        "colab_type": "code",
        "outputId": "3acbf890-dcaa-435d-c3d3-66f22109fd9d",
        "colab": {
          "base_uri": "https://localhost:8080/",
          "height": 351
        }
      },
      "cell_type": "code",
      "source": [
        "## 20190419\n",
        "\n",
        "\n",
        "image = Image.open(\"SRtrainset_2/64_2000_3707.jpg\")\n",
        "width, height = image.size\n",
        "channel = 3 if image.mode == 'RGB' else 1\n",
        "print(width, height, channel)\n",
        "img = TF.to_tensor(image).reshape([-1, 12288])\n",
        "img.shape"
      ],
      "execution_count": 0,
      "outputs": [
        {
          "output_type": "error",
          "ename": "FileNotFoundError",
          "evalue": "ignored",
          "traceback": [
            "\u001b[0;31m---------------------------------------------------------------------------\u001b[0m",
            "\u001b[0;31mFileNotFoundError\u001b[0m                         Traceback (most recent call last)",
            "\u001b[0;32m<ipython-input-12-010539a4a80f>\u001b[0m in \u001b[0;36m<module>\u001b[0;34m()\u001b[0m\n\u001b[1;32m      1\u001b[0m \u001b[0;34m\u001b[0m\u001b[0m\n\u001b[1;32m      2\u001b[0m \u001b[0;34m\u001b[0m\u001b[0m\n\u001b[0;32m----> 3\u001b[0;31m \u001b[0mimage\u001b[0m \u001b[0;34m=\u001b[0m \u001b[0mImage\u001b[0m\u001b[0;34m.\u001b[0m\u001b[0mopen\u001b[0m\u001b[0;34m(\u001b[0m\u001b[0;34m\"SRtrainset_2/64_2000_3707.jpg\"\u001b[0m\u001b[0;34m)\u001b[0m\u001b[0;34m\u001b[0m\u001b[0;34m\u001b[0m\u001b[0m\n\u001b[0m\u001b[1;32m      4\u001b[0m \u001b[0mwidth\u001b[0m\u001b[0;34m,\u001b[0m \u001b[0mheight\u001b[0m \u001b[0;34m=\u001b[0m \u001b[0mimage\u001b[0m\u001b[0;34m.\u001b[0m\u001b[0msize\u001b[0m\u001b[0;34m\u001b[0m\u001b[0;34m\u001b[0m\u001b[0m\n\u001b[1;32m      5\u001b[0m \u001b[0mchannel\u001b[0m \u001b[0;34m=\u001b[0m \u001b[0;36m3\u001b[0m \u001b[0;32mif\u001b[0m \u001b[0mimage\u001b[0m\u001b[0;34m.\u001b[0m\u001b[0mmode\u001b[0m \u001b[0;34m==\u001b[0m \u001b[0;34m'RGB'\u001b[0m \u001b[0;32melse\u001b[0m \u001b[0;36m1\u001b[0m\u001b[0;34m\u001b[0m\u001b[0;34m\u001b[0m\u001b[0m\n",
            "\u001b[0;32m/usr/local/lib/python3.6/dist-packages/PIL/Image.py\u001b[0m in \u001b[0;36mopen\u001b[0;34m(fp, mode)\u001b[0m\n\u001b[1;32m   2528\u001b[0m \u001b[0;34m\u001b[0m\u001b[0m\n\u001b[1;32m   2529\u001b[0m     \u001b[0;32mif\u001b[0m \u001b[0mfilename\u001b[0m\u001b[0;34m:\u001b[0m\u001b[0;34m\u001b[0m\u001b[0;34m\u001b[0m\u001b[0m\n\u001b[0;32m-> 2530\u001b[0;31m         \u001b[0mfp\u001b[0m \u001b[0;34m=\u001b[0m \u001b[0mbuiltins\u001b[0m\u001b[0;34m.\u001b[0m\u001b[0mopen\u001b[0m\u001b[0;34m(\u001b[0m\u001b[0mfilename\u001b[0m\u001b[0;34m,\u001b[0m \u001b[0;34m\"rb\"\u001b[0m\u001b[0;34m)\u001b[0m\u001b[0;34m\u001b[0m\u001b[0;34m\u001b[0m\u001b[0m\n\u001b[0m\u001b[1;32m   2531\u001b[0m         \u001b[0mexclusive_fp\u001b[0m \u001b[0;34m=\u001b[0m \u001b[0;32mTrue\u001b[0m\u001b[0;34m\u001b[0m\u001b[0;34m\u001b[0m\u001b[0m\n\u001b[1;32m   2532\u001b[0m \u001b[0;34m\u001b[0m\u001b[0m\n",
            "\u001b[0;31mFileNotFoundError\u001b[0m: [Errno 2] No such file or directory: 'SRtrainset_2/64_2000_3707.jpg'"
          ]
        }
      ]
    },
    {
      "metadata": {
        "id": "0PJxIfxsyBds",
        "colab_type": "code",
        "colab": {}
      },
      "cell_type": "code",
      "source": [
        "noise = torch.randn(1, 64)\n",
        "input = torch.cat((img, noise), 1)\n",
        "input.shape\n",
        "# a fully connected layer to reshape to have the same size as one image channel\n",
        "input = nn.Linear(12352, 12288)(input)\n",
        "input.reshape([64, 64, 3])"
      ],
      "execution_count": 0,
      "outputs": []
    }
  ]
}